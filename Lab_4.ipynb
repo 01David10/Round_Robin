{
 "cells": [
  {
   "cell_type": "code",
   "execution_count": 1,
   "metadata": {},
   "outputs": [
    {
     "ename": "ModuleNotFoundError",
     "evalue": "No module named 'pandas'",
     "output_type": "error",
     "traceback": [
      "\u001b[1;31m---------------------------------------------------------------------------\u001b[0m",
      "\u001b[1;31mModuleNotFoundError\u001b[0m                       Traceback (most recent call last)",
      "Cell \u001b[1;32mIn[1], line 3\u001b[0m\n\u001b[0;32m      1\u001b[0m \u001b[38;5;28;01mimport\u001b[39;00m \u001b[38;5;21;01mqueue\u001b[39;00m\n\u001b[0;32m      2\u001b[0m \u001b[38;5;28;01mimport\u001b[39;00m \u001b[38;5;21;01mjson\u001b[39;00m\n\u001b[1;32m----> 3\u001b[0m \u001b[38;5;28;01mimport\u001b[39;00m \u001b[38;5;21;01mpandas\u001b[39;00m \u001b[38;5;28;01mas\u001b[39;00m \u001b[38;5;21;01mpd\u001b[39;00m\n\u001b[0;32m      4\u001b[0m \u001b[38;5;28;01mimport\u001b[39;00m \u001b[38;5;21;01mrandom\u001b[39;00m\n\u001b[0;32m      5\u001b[0m \u001b[38;5;28;01mimport\u001b[39;00m \u001b[38;5;21;01mmatplotlib\u001b[39;00m\u001b[38;5;21;01m.\u001b[39;00m\u001b[38;5;21;01mpyplot\u001b[39;00m \u001b[38;5;28;01mas\u001b[39;00m \u001b[38;5;21;01mplt\u001b[39;00m\n",
      "\u001b[1;31mModuleNotFoundError\u001b[0m: No module named 'pandas'"
     ]
    }
   ],
   "source": [
    "import queue\n",
    "import json\n",
    "import pandas as pd\n",
    "import random\n",
    "import matplotlib.pyplot as plt"
   ]
  },
  {
   "cell_type": "code",
   "execution_count": 2,
   "metadata": {},
   "outputs": [
    {
     "name": "stdout",
     "output_type": "stream",
     "text": [
      "FIFO:\n",
      "Por favor ingrese un valor númerico\n"
     ]
    },
    {
     "ename": "NameError",
     "evalue": "name 'pd' is not defined",
     "output_type": "error",
     "traceback": [
      "\u001b[1;31m---------------------------------------------------------------------------\u001b[0m",
      "\u001b[1;31mNameError\u001b[0m                                 Traceback (most recent call last)",
      "Cell \u001b[1;32mIn[2], line 98\u001b[0m\n\u001b[0;32m     95\u001b[0m     \u001b[38;5;28;01mexcept\u001b[39;00m \u001b[38;5;167;01mValueError\u001b[39;00m:\n\u001b[0;32m     96\u001b[0m       \u001b[38;5;28mprint\u001b[39m(\u001b[38;5;124m\"\u001b[39m\u001b[38;5;124mPor favor ingrese un valor númerico\u001b[39m\u001b[38;5;124m\"\u001b[39m)\n\u001b[1;32m---> 98\u001b[0m \u001b[43mmenu\u001b[49m\u001b[43m(\u001b[49m\u001b[43m)\u001b[49m\n",
      "Cell \u001b[1;32mIn[2], line 72\u001b[0m, in \u001b[0;36mmenu\u001b[1;34m()\u001b[0m\n\u001b[0;32m     66\u001b[0m   formato \u001b[38;5;241m=\u001b[39m {\n\u001b[0;32m     67\u001b[0m       \u001b[38;5;124m\"\u001b[39m\u001b[38;5;124mProceso\u001b[39m\u001b[38;5;124m\"\u001b[39m : \u001b[38;5;124mf\u001b[39m\u001b[38;5;124m\"\u001b[39m\u001b[38;5;124mP\u001b[39m\u001b[38;5;132;01m{\u001b[39;00mi\u001b[38;5;132;01m}\u001b[39;00m\u001b[38;5;124m\"\u001b[39m,\n\u001b[0;32m     68\u001b[0m       \u001b[38;5;124m\"\u001b[39m\u001b[38;5;124mTiempo llegada\u001b[39m\u001b[38;5;124m\"\u001b[39m : tiempo_llegada,\n\u001b[0;32m     69\u001b[0m       \u001b[38;5;124m\"\u001b[39m\u001b[38;5;124mNCPU\u001b[39m\u001b[38;5;124m\"\u001b[39m : NCPU\n\u001b[0;32m     70\u001b[0m   }\n\u001b[0;32m     71\u001b[0m   datosFIFO\u001b[38;5;241m.\u001b[39mappend(formato)\n\u001b[1;32m---> 72\u001b[0m tablaProcesoFIFO \u001b[38;5;241m=\u001b[39m \u001b[43mpd\u001b[49m\u001b[38;5;241m.\u001b[39mDataFrame(datosFIFO)\n\u001b[0;32m     73\u001b[0m \u001b[38;5;28mprint\u001b[39m()\n\u001b[0;32m     74\u001b[0m \u001b[38;5;28mprint\u001b[39m(\u001b[38;5;124m\"\u001b[39m\u001b[38;5;124m--------------- DATOS INGRESADOS -----------------------------\u001b[39m\u001b[38;5;124m\"\u001b[39m)\n",
      "\u001b[1;31mNameError\u001b[0m: name 'pd' is not defined"
     ]
    }
   ],
   "source": [
    "def FIFO(datos):\n",
    "  colores = [\"blue\",\"red\",\"green\",\"cyan\",\"brown\",\"purple\",\"olive\",\"gray\",\"orange\"]\n",
    "  datos = datos.sort_values(by=\"Tiempo llegada\", ascending=True)\n",
    "  print()\n",
    "  print(\"--------------- DATOS ORDENADOS -----------------------------\")\n",
    "  print(datos)\n",
    "  #Creamos la instancia del grafico:\n",
    "  fig, ax = plt.subplots()\n",
    "  c = 0\n",
    "  for index, row in datos.iterrows():\n",
    "    #print(index)\n",
    "    #print(row[\"t_llegada\"])\n",
    "    color = random.choice(colores)\n",
    "    colores.remove(color)\n",
    "    c, ax, datos = crear_grafico(datos,index,row,ax,c,color)\n",
    "    Tp = datos.at[index,\"CPU Primera Vez\"]\n",
    "    ax.annotate(\"P\" + str(index)  + \"=\" + str(row[\"NCPU\"]), (int((Tp +c )/2), 12), fontsize=9, ha='center', color='black')\n",
    "\n",
    "  ax.set_ylim(0, 50)\n",
    "  ax.set_xlim(0, )\n",
    "  ax.set_xlabel('Quantums')\n",
    "  ax.set_yticks([10], labels=['Procesos'])\n",
    "  ax.grid(False)\n",
    "  plt.show()\n",
    "  calcular(datos)\n",
    "  print(datos)\n",
    "  print(f\"Tiempo vuelta en promedio:\", datos[\"Tiempo vuelta\"].mean())\n",
    "  print(f\"Tiempo vuelta en espera:\", datos[\"Tiempo espera\"].mean())\n",
    "\n",
    "\n",
    "def crear_grafico(datos,index,row,ax,c, color):\n",
    "  tiempo_llegada = int(row[\"Tiempo llegada\"])\n",
    "  if(tiempo_llegada == 0):\n",
    "    ax.broken_barh([(index, int(row[\"NCPU\"]))], (0,10), facecolors='tab:' + color)\n",
    "  else:\n",
    "    if(tiempo_llegada > c):\n",
    "      ax.broken_barh([(tiempo_llegada,int(row[\"NCPU\"]))], (0,10), facecolors='tab:'+ color)\n",
    "      c =  tiempo_llegada\n",
    "    else:\n",
    "      ax.broken_barh([(c,int(row[\"NCPU\"]))], (0,10), facecolors='tab:'+ color)\n",
    "  #print((datos.shape[0]-1))\n",
    "  #print(index)\n",
    "  #print(c)1\n",
    "\n",
    "  datos.at[index,\"CPU Primera Vez\"] = c\n",
    "  c = c + int(row[\"NCPU\"])\n",
    "  #print(c)\n",
    "  return c,ax,datos\n",
    "\n",
    "\n",
    "def calcular(datos):\n",
    "  for index, row in datos.iterrows():\n",
    "    datos.at[index,\"Tiempo vuelta\"] =  (int(row[\"CPU Primera Vez\"]) +int(row[\"NCPU\"])) - 0 - row[\"Tiempo llegada\"]\n",
    "    datos.at[index,\"Tiempo espera\"] = row[\"CPU Primera Vez\"] - row[\"Tiempo llegada\"]\n",
    "\n",
    "  return datos\n",
    "\n",
    "\n",
    "def menu():\n",
    "  print(\"FIFO:\")\n",
    "  datosFIFO = []\n",
    "  n_procesos = validarDato(\"Cantidad de procesos: \",1)\n",
    "  for i in range(n_procesos):\n",
    "    tiempo_llegada = validarDato(f\"Tiempo de llegada para P{i}: \",0)\n",
    "    NCPU = validarDato(f\"NCPU para P{i}: \",1)\n",
    "    formato = {\n",
    "        \"Proceso\" : f\"P{i}\",\n",
    "        \"Tiempo llegada\" : tiempo_llegada,\n",
    "        \"NCPU\" : NCPU\n",
    "    }\n",
    "    datosFIFO.append(formato)\n",
    "  tablaProcesoFIFO = pd.DataFrame(datosFIFO)\n",
    "  print()\n",
    "  print(\"--------------- DATOS INGRESADOS -----------------------------\")\n",
    "  print(tablaProcesoFIFO)\n",
    "  FIFO(tablaProcesoFIFO)\n",
    "\n",
    "\n",
    "def validarDato(mensaje,opcion):\n",
    "  while True:\n",
    "    try:\n",
    "      dato = int(input(mensaje))\n",
    "      #Opcion 1 corresponde a los tiempo de llegada\n",
    "      if(opcion == 1):\n",
    "        if(dato > 0):\n",
    "          return dato\n",
    "        else:\n",
    "          print(\"Tiempo de llegada y cantidad de procesos debe ser mayor 0.\")\n",
    "      #Opcion 2 corresponde a los NCPU\n",
    "      else:\n",
    "        if(dato >=0):\n",
    "          return dato\n",
    "        else:\n",
    "          print(\"NCPU tiene que un valor positivo mayor o igual 0..\")\n",
    "    except ValueError:\n",
    "      print(\"Por favor ingrese un valor númerico\")\n",
    "\n",
    "menu()"
   ]
  }
 ],
 "metadata": {
  "kernelspec": {
   "display_name": "Python 3",
   "language": "python",
   "name": "python3"
  },
  "language_info": {
   "codemirror_mode": {
    "name": "ipython",
    "version": 3
   },
   "file_extension": ".py",
   "mimetype": "text/x-python",
   "name": "python",
   "nbconvert_exporter": "python",
   "pygments_lexer": "ipython3",
   "version": "3.10.10"
  }
 },
 "nbformat": 4,
 "nbformat_minor": 2
}
